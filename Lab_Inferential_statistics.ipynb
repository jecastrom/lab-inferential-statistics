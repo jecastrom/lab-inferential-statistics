{
 "cells": [
  {
   "cell_type": "markdown",
   "id": "a4ff00f9-9910-4953-842b-e21034faa8c0",
   "metadata": {},
   "source": [
    "# Lab | Inferential statistics\n",
    "Jorge Castro DAPT NOV2021\n",
    "\n",
    "### Instructions\n",
    "\n",
    "1. It is assumed that the mean systolic blood pressure is `μ = 120 mm Hg`. In the Honolulu Heart Study, a sample of `n = 100` people had an average systolic blood pressure of 130.1 mm Hg with a standard deviation of 21.21 mm Hg. Is the group significantly different (with respect to systolic blood pressure!) from the regular population?\n",
    "\n",
    "   - Set up the hypothesis test.\n",
    "   - Write down all the steps followed for setting up the test.\n",
    "   - Calculate the test statistic by hand and also code it in Python. It should be 4.76190. We will take a look at how to make decisions based on this calculated value.\n",
    "\n",
    "2. If you finished the previous question, please go through the code for `principal_component_analysis_example` provided in the `files_for_lab` folder ."
   ]
  },
  {
   "cell_type": "markdown",
   "id": "59245135-4d85-43ad-842c-d24925d57287",
   "metadata": {},
   "source": [
    "### Hipothesis test\n",
    "#### Recap of concepts from Hypothesis Testing\n",
    "\n",
    "* Null hypothesis: Denoted with H0, a null hypothesis is an assumption that the population average is identical to a specific value. The typical notation is μ = μ0, where μ refers to the population mean and μ0 refers to the hypothesized value.\n",
    "\n",
    "* Alternate hypothesis: An alternative hypothesis is the opposite of the null hypothesis. We compare this hypothesis with the null hypothesis to decide whether or not we reject the null hypothesis. We denote the alternative hypothesis with H1 or Ha.\n",
    "\n",
    "* Significance Level: Indicates whether we are confident enough to reject the null hypothesis.\n",
    "\n",
    "* Test Statistic: Once we determine the type of hypothesis test and that our assumptions have been met, we use our data to decide whether to reject or not reject the null hypothesis. (z-test, t-test)\n",
    "\n",
    "* p-value: is a measure used to help us reject or not the null hypothesis\n",
    "\n",
    "* Step 1: Define the null hypothesis - This is our assumption about the population: we assume that the avaerage of our population is identical to the regular population. It is defined by H0 and in this case H0: μ = 120;\n",
    "\n",
    "* Step 2: Define the alternative hypothesis - This means, what if our assumption is not true. It is defined by Ha and in this case Ha: μ <> 120.\n",
    "\n",
    "* Step 3: Determine if it is a one-tailed or a two-tailed test. Two-tailed is when the mean tested (alternative hypothesis) can be > or < than the mean of the population; the one-tailed test is when the mean tested is either < or >, but only one of those. In this case we are checking if the mean of the systolic blood pressure is different from the mean of the regular population, so we will consider it a two-tailed test.\n",
    "\n",
    "* Step 4: Decide a test statistics based on the information available. We will assume that the data are normally distributed. Provided that the number of observations are 100 and population variance is known, we will use a t-test. This test is based on a \"t-distribution\" which is a normal distribution.\n",
    "\n",
    "If the population variance is not known or the testing sample is less then 30, we use a t-test. T test is based on students t distribution which is very similar to a standard normal distribution except that it is much flatter.\n",
    "\n",
    "* Step 5: Level of significance: This defines the rejection region/critical region, it's the probability of making the wrong decision when the null hypothesis is true. We choose 0.05, which is the most usual. It is defined by greek letter 'alpha'. In the medical field this would go down to 0.01.\n",
    "\n",
    "* Step 6: Calculate the test statistic based on the given information.\n",
    "\n",
    "* Step 7: Check the table to determine the critical value.\n",
    "\n",
    "For z-test you have fixed values according to Confidence Level.\n",
    "For t-test you have to calculate according to the degrees of freedom (df), which is the sample_size - 1.\n",
    "\n",
    "* Step 8: Make conclusions:\n",
    "\n",
    "If the test statistic falls in the critical region, then we reject the Null Hypothesis\n",
    "If the test statistic falls in the region between the critical region, then we fail to reject the Null Hypothesis."
   ]
  },
  {
   "cell_type": "code",
   "execution_count": 6,
   "id": "eecc9200-7738-4f65-9c54-fae453fa5cf8",
   "metadata": {},
   "outputs": [
    {
     "name": "stdout",
     "output_type": "stream",
     "text": [
      "Calculated t = 4.762\n",
      "We reject H0\n"
     ]
    }
   ],
   "source": [
    "#Manual calculation\n",
    "import math\n",
    "\n",
    "sample_mean = 130.1\n",
    "pop_mean = 120\n",
    "sample_std = 21.21\n",
    "n = 100\n",
    "\n",
    "statistic = (sample_mean - pop_mean)/(sample_std/math.sqrt(n))\n",
    "print(\"Calculated t =\",round(statistic,3))\n",
    "\n",
    "import scipy.stats\n",
    "\n",
    "#find T critical value. Two-tailed test, alpha 0.05\n",
    "critical_value=scipy.stats.t.ppf(q=1-.05/2,df=n-1)\n",
    "\n",
    "print(\"We reject H0\") if abs(statistic) > abs(critical_value) else print(\"We cannot reject H0\")"
   ]
  },
  {
   "cell_type": "code",
   "execution_count": 7,
   "id": "758cb75e-7894-4bdc-a238-f8d4b117b8ba",
   "metadata": {},
   "outputs": [],
   "source": [
    "def academic_t_test(sample_mean, sample_std, pop_mean, pop_size, alpha=.05, tails=\"Two\"):\n",
    "    import math\n",
    "    import numpy as np\n",
    "    import scipy.stats\n",
    "  \n",
    "    statistic = (sample_mean - pop_mean)/(sample_std/math.sqrt(n))\n",
    "    \n",
    "    #find T critical value\n",
    "    #Two-tailed test\n",
    "    if tails==\"Two\":\n",
    "        critical_value=scipy.stats.t.ppf(q=1-alpha/2,df=pop_size-1)\n",
    "    #One-tailed test\n",
    "    elif tails==\"Left\":\n",
    "        critical_value=scipy.stats.t.ppf(q=alpha,df=pop_size-1)\n",
    "    elif tails==\"Right\":\n",
    "        critical_value=scipy.stats.t.ppf(q=1-alpha,df=pop_size-1)\n",
    "    else: \n",
    "        return 'Please, indicate \"Left\", \"Right\" or \"Two\" in the \"tails\" argument'\n",
    "    \n",
    "    conclusion= \"We reject H0\" if abs(statistic) > abs(critical_value) else \"We cannot reject H0\"\n",
    "    \n",
    "    results=[round(statistic,3),round(critical_value,3),conclusion]\n",
    "    \n",
    "    return results"
   ]
  },
  {
   "cell_type": "code",
   "execution_count": 8,
   "id": "8c33e3a6-7d1a-4105-912a-27e1ced73e9d",
   "metadata": {},
   "outputs": [
    {
     "data": {
      "text/plain": [
       "[4.762, 1.984, 'We reject H0']"
      ]
     },
     "execution_count": 8,
     "metadata": {},
     "output_type": "execute_result"
    }
   ],
   "source": [
    "academic_t_test(sample_mean, sample_std, pop_mean, 100)\n"
   ]
  },
  {
   "cell_type": "code",
   "execution_count": null,
   "id": "35fb8fb7-c0c2-4975-8dac-18ba9bfe026f",
   "metadata": {},
   "outputs": [],
   "source": []
  }
 ],
 "metadata": {
  "kernelspec": {
   "display_name": "Python 3 (ipykernel)",
   "language": "python",
   "name": "python3"
  },
  "language_info": {
   "codemirror_mode": {
    "name": "ipython",
    "version": 3
   },
   "file_extension": ".py",
   "mimetype": "text/x-python",
   "name": "python",
   "nbconvert_exporter": "python",
   "pygments_lexer": "ipython3",
   "version": "3.8.12"
  }
 },
 "nbformat": 4,
 "nbformat_minor": 5
}
